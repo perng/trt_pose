{
 "cells": [
  {
   "cell_type": "code",
   "execution_count": 2,
   "id": "immune-houston",
   "metadata": {},
   "outputs": [],
   "source": [
    "import sqlite3, time, torch, numpy"
   ]
  },
  {
   "cell_type": "code",
   "execution_count": 3,
   "id": "fatal-courage",
   "metadata": {},
   "outputs": [
    {
     "name": "stdout",
     "output_type": "stream",
     "text": [
      "(1616021703.1269228,)\n"
     ]
    }
   ],
   "source": [
    "\n",
    "querylatest = 'select max(timestamp) from data;'\n",
    "conn = sqlite3.connect('posedata.db')\n",
    "\n",
    "cursor = conn.execute(querylatest)\n",
    "for row in cursor:\n",
    "    print(row)\n",
    "\n",
    "points = [\"nose\", \"left_eye\", \"right_eye\", \"left_ear\", \"right_ear\", \"left_shoulder\", \"right_shoulder\", \n",
    "          \"left_elbow\", \"right_elbow\", \"left_wrist\", \"right_wrist\", \"left_hip\", \"right_hip\", \"left_knee\", \n",
    "          \"right_knee\", \"left_ankle\", \"right_ankle\", \"neck\"]\n"
   ]
  },
  {
   "cell_type": "code",
   "execution_count": 4,
   "id": "enhanced-coral",
   "metadata": {},
   "outputs": [
    {
     "name": "stdout",
     "output_type": "stream",
     "text": [
      "1\n",
      "b'\\x00\\x00\\x00\\x00\\x00\\x00\\x00\\x00\\x00\\x00\\x00\\x00\\xff\\xff\\xff\\xff\\x00\\x00\\x00\\x00\\x00\\x00\\x00\\x00\\x00\\x00\\x00\\x00\\xff\\xff\\xff\\xff\\xff\\xff\\xff\\xff\\xff\\xff\\xff\\xff\\xff\\xff\\xff\\xff\\xff\\xff\\xff\\xff\\xff\\xff\\xff\\xff\\xff\\xff\\xff\\xff\\xff\\xff\\xff\\xff\\xff\\xff\\xff\\xff\\xff\\xff\\xff\\xff\\x00\\x00\\x00\\x00'\n",
      "(18,)\n",
      "[ 0.  0.  0. nan  0.  0.  0. nan nan nan nan nan nan nan nan nan nan  0.]\n",
      "[0.6387563  0.59835327 0.5974495  0.63537556 0.5858244  0.58146554\n",
      " 0.         0.         0.53208333 0.47348928 0.84534675 0.5421935\n",
      " 0.71277755 0.27448556 0.         0.         0.         0.\n",
      " 0.         0.         0.         0.         0.         0.\n",
      " 0.         0.         0.         0.         0.         0.\n",
      " 0.         0.         0.         0.         0.7890352  0.40218094]\n",
      "[[0.6387563  0.59835327]\n",
      " [0.5974495  0.63537556]\n",
      " [0.5858244  0.58146554]\n",
      " [0.         0.        ]\n",
      " [0.53208333 0.47348928]\n",
      " [0.84534675 0.5421935 ]\n",
      " [0.71277755 0.27448556]\n",
      " [0.         0.        ]\n",
      " [0.         0.        ]\n",
      " [0.         0.        ]\n",
      " [0.         0.        ]\n",
      " [0.         0.        ]\n",
      " [0.         0.        ]\n",
      " [0.         0.        ]\n",
      " [0.         0.        ]\n",
      " [0.         0.        ]\n",
      " [0.         0.        ]\n",
      " [0.7890352  0.40218094]]\n",
      "0 nose [0.6387563  0.59835327]\n",
      "1 left_eye [0.5974495  0.63537556]\n",
      "2 right_eye [0.5858244  0.58146554]\n",
      "4 right_ear [0.53208333 0.47348928]\n",
      "5 left_shoulder [0.84534675 0.5421935 ]\n",
      "6 right_shoulder [0.71277755 0.27448556]\n",
      "17 neck [0.7890352  0.40218094]\n"
     ]
    }
   ],
   "source": [
    "sql = 'select timestamp, count, objects, peaks from data where timestamp> 1615778036'\n",
    "cursor = conn.execute(sql)\n",
    "timestamp, count, objects, peaks = (None, None, None,None)\n",
    "for row in cursor:\n",
    "    timestamp, count, objects, peaks = row\n",
    "    print(count)\n",
    "    print(objects)\n",
    "    \n",
    "    objects = numpy.frombuffer(objects,dtype=numpy.float32)\n",
    "    print(objects.shape)\n",
    "    print(objects)\n",
    "    peaks = numpy.frombuffer(peaks,dtype=numpy.float32)    \n",
    "    print(peaks)\n",
    "    peaks = numpy.reshape(peaks, (18, int(len(peaks)/18)) )\n",
    "    print(peaks)\n",
    "    \n",
    "    for i in range(18):\n",
    "        if objects[i]==0:\n",
    "            print(i, points[i], peaks[i])\n",
    "    break"
   ]
  },
  {
   "cell_type": "code",
   "execution_count": null,
   "id": "trained-field",
   "metadata": {},
   "outputs": [],
   "source": []
  }
 ],
 "metadata": {
  "kernelspec": {
   "display_name": "Python 3",
   "language": "python",
   "name": "python3"
  },
  "language_info": {
   "codemirror_mode": {
    "name": "ipython",
    "version": 3
   },
   "file_extension": ".py",
   "mimetype": "text/x-python",
   "name": "python",
   "nbconvert_exporter": "python",
   "pygments_lexer": "ipython3",
   "version": "3.6.9"
  }
 },
 "nbformat": 4,
 "nbformat_minor": 5
}
